{
 "cells": [
  {
   "cell_type": "code",
   "execution_count": 2,
   "metadata": {
    "collapsed": false
   },
   "outputs": [
    {
     "name": "stdout",
     "output_type": "stream",
     "text": [
      "23\n",
      "1 2 3 5 7 11 13 17 19 23\n"
     ]
    }
   ],
   "source": [
    "check_number = input()\n",
    "from math import sqrt\n",
    "\n",
    "def isPrime(N):\n",
    "    max_div = int(sqrt(N))\n",
    "    if N in (1, 2, 3):\n",
    "        return True\n",
    "    for i in range(2, max_div+1):\n",
    "        if isPrime(i) and N % i == 0:\n",
    "            return False\n",
    "    return True\n",
    "\n",
    "\n",
    "for i in range (1, check_number + 1):\n",
    "    if isPrime(i):\n",
    "        print i,"
   ]
  },
  {
   "cell_type": "code",
   "execution_count": null,
   "metadata": {
    "collapsed": true
   },
   "outputs": [],
   "source": []
  }
 ],
 "metadata": {
  "kernelspec": {
   "display_name": "Python 2",
   "language": "python",
   "name": "python2"
  },
  "language_info": {
   "codemirror_mode": {
    "name": "ipython",
    "version": 2
   },
   "file_extension": ".py",
   "mimetype": "text/x-python",
   "name": "python",
   "nbconvert_exporter": "python",
   "pygments_lexer": "ipython2",
   "version": "2.7.11"
  }
 },
 "nbformat": 4,
 "nbformat_minor": 0
}
