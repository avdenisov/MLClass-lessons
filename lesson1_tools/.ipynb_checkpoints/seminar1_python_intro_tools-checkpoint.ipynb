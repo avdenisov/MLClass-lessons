{
 "cells": [
  {
   "cell_type": "markdown",
   "metadata": {
    "collapsed": true
   },
   "source": [
    "# MLClass. \"Прикладной анализ данных\""
   ]
  },
  {
   "cell_type": "markdown",
   "metadata": {},
   "source": [
    "<img src=\"../img/faculty_logo.jpg\" height=\"240\" width=\"240\">"
   ]
  },
  {
   "cell_type": "markdown",
   "metadata": {},
   "source": [
    "\"Введение в программирование\" - первый курс майнора, посвящён изучению основ и методологии программирования на основе языка Python, который широко используется для разработки и реализации методов анализа данных. Рассматриваются основные структуры и алгоритмы, работа с данными разного вида (тексты, бинарные файлы, изображения), создание графических пользовательских интерфейсов, инструменты и средства разработки и отладки программ. <a href=\"http://wiki.cs.hse.ru/%D0%9C%D0%B0%D0%B9%D0%BD%D0%BE%D1%80_%D0%98%D0%BD%D1%82%D0%B5%D0%BB%D0%BB%D0%B5%D0%BA%D1%82%D1%83%D0%B0%D0%BB%D1%8C%D0%BD%D1%8B%D0%B9_%D0%B0%D0%BD%D0%B0%D0%BB%D0%B8%D0%B7_%D0%B4%D0%B0%D0%BD%D0%BD%D1%8B%D1%85/%D0%92%D0%B2%D0%B5%D0%B4%D0%B5%D0%BD%D0%B8%D0%B5_%D0%B2_%D0%BF%D1%80%D0%BE%D0%B3%D1%80%D0%B0%D0%BC%D0%BC%D0%B8%D1%80%D0%BE%D0%B2%D0%B0%D0%BD%D0%B8%D0%B5\">Wiki майнора</a>."
   ]
  },
  {
   "cell_type": "markdown",
   "metadata": {},
   "source": [
    "## Семинар 1. Введение в Python. Стандартный инструментарий программиста."
   ]
  },
  {
   "cell_type": "markdown",
   "metadata": {},
   "source": [
    "### Часть 1. Установка Anaconda"
   ]
  },
  {
   "cell_type": "markdown",
   "metadata": {},
   "source": [
    "<img src=\"../img/anaconda.png\" height=\"240\" width=\"240\">"
   ]
  },
  {
   "cell_type": "markdown",
   "metadata": {},
   "source": [
    "Python - это свободный интерпретируемый объектно-ориентированный расширяемый встраиваемый язык программирования очень высокого уровня (Г.Россум, Ф.Л.Дж.Дрейк, Д.С.Откидач \"Язык программирования Python\")\n",
    " - свободный - все исходные тексты открыты для любого использования, даже коммерческого\n",
    " - интерпретируемый - использует \"позднее связывание\"\n",
    " - объектно-ориентированный - классическая ОО модель с множественным наследованием\n",
    " - расширяемый - имеет строго определенные API для создания модулей, типов и классов на C или C++\n",
    " - встраиваемый - имеет строго определенные API для встраивания интерпретатора в другие программы\n",
    " - очень высокого уровня - динамическая типизация, встроенные типы данных высокого уровня (например, словари), классы, модули, исключения"
   ]
  },
  {
   "cell_type": "markdown",
   "metadata": {},
   "source": [
    "Код на Python чаще всего намного более читаемый, чем на C или C++, потому что:\n",
    "- типы данных высокого уровня позволяют выражать сложные операции одной или несколькими простыми командами\n",
    "- группирование инструкций выполняется отступами, а не фигурными скобками\n",
    "- не надо объявлять переменные"
   ]
  },
  {
   "cell_type": "markdown",
   "metadata": {},
   "source": [
    "В этом курсе мы используем сборку библиотек <a href=\"http://continuum.io/downloads\">Anaconda</a>, включающую интерпретатор Python, библиотеки для научных вычислений NumPy и SciPy, анализа данных Pandas, машинного обучения Scikit-learn и около 200 других. \n",
    "\n",
    "Следуем инструкциям, проверяем установку. В командной строке набираем"
   ]
  },
  {
   "cell_type": "markdown",
   "metadata": {},
   "source": [
    "<p><i><b>>> python</b></i></p>"
   ]
  },
  {
   "cell_type": "markdown",
   "metadata": {},
   "source": [
    "Дзен языка Python"
   ]
  },
  {
   "cell_type": "code",
   "execution_count": 8,
   "metadata": {
    "collapsed": false
   },
   "outputs": [
    {
     "name": "stdout",
     "output_type": "stream",
     "text": [
      "The Zen of Python, by Tim Peters\n",
      "\n",
      "Beautiful is better than ugly.\n",
      "Explicit is better than implicit.\n",
      "Simple is better than complex.\n",
      "Complex is better than complicated.\n",
      "Flat is better than nested.\n",
      "Sparse is better than dense.\n",
      "Readability counts.\n",
      "Special cases aren't special enough to break the rules.\n",
      "Although practicality beats purity.\n",
      "Errors should never pass silently.\n",
      "Unless explicitly silenced.\n",
      "In the face of ambiguity, refuse the temptation to guess.\n",
      "There should be one-- and preferably only one --obvious way to do it.\n",
      "Although that way may not be obvious at first unless you're Dutch.\n",
      "Now is better than never.\n",
      "Although never is often better than *right* now.\n",
      "If the implementation is hard to explain, it's a bad idea.\n",
      "If the implementation is easy to explain, it may be a good idea.\n",
      "Namespaces are one honking great idea -- let's do more of those!\n"
     ]
    }
   ],
   "source": [
    "import this"
   ]
  },
  {
   "cell_type": "markdown",
   "metadata": {},
   "source": [
    "Интерпретатор можно использовать в качестве настольного калькулятора"
   ]
  },
  {
   "cell_type": "code",
   "execution_count": 11,
   "metadata": {
    "collapsed": false
   },
   "outputs": [
    {
     "name": "stdout",
     "output_type": "stream",
     "text": [
      "4\n",
      "2187\n",
      "4.12\n",
      "Hello, Yury!\n"
     ]
    }
   ],
   "source": [
    "print 2 + 2\n",
    "print 3 ** 7\n",
    "import math\n",
    "print round(math.sqrt(17), 2)"
   ]
  },
  {
   "cell_type": "markdown",
   "metadata": {},
   "source": [
    "Но Python способен и на большее. Выведем все двузначные члены последовательности Фиббоначи. "
   ]
  },
  {
   "cell_type": "code",
   "execution_count": 2,
   "metadata": {
    "collapsed": false
   },
   "outputs": [
    {
     "name": "stdout",
     "output_type": "stream",
     "text": [
      "1 1 2 3 5 8 13 21 34 55 89\n"
     ]
    }
   ],
   "source": [
    "a, b = 1, 1\n",
    "while a < 100:\n",
    "    print a,\n",
    "    a, b = b, a + b"
   ]
  },
  {
   "cell_type": "markdown",
   "metadata": {},
   "source": [
    "Изучать Python продолжим на следующем семинаре, а пока настроим среду для грамотной работы с кодом и решения задач."
   ]
  },
  {
   "cell_type": "markdown",
   "metadata": {
    "collapsed": false
   },
   "source": [
    "### Часть 2. Введение в систему контроля версий git и веб-сервис GitHub "
   ]
  },
  {
   "cell_type": "markdown",
   "metadata": {},
   "source": [
    "Git - популярная система контроля версий, GitHub - популярный веб-сервис для совместной работы над IT-проектами.\n",
    "<a href=\"http://sixrevisions.com/git/interactive-git-tutorials/\">Обзор</a> трех ресурсов для интерактивного введения в Git. <a href=\"http://githowto.com/\">Еще один</a>."
   ]
  },
  {
   "cell_type": "markdown",
   "metadata": {},
   "source": [
    "Скачиваем (клонируем) репозиторий c данной тетрадкой IPython"
   ]
  },
  {
   "cell_type": "markdown",
   "metadata": {},
   "source": [
    "<p><i><b>>> git clone https://github.com/Yorko/python4da_intro.git</b></i></p>"
   ]
  },
  {
   "cell_type": "markdown",
   "metadata": {},
   "source": [
    "Добавим файл. Например, файл primes_sum_1000.py с кодом для подсчета суммы всех простых чисел, не превосходящих 1000.  "
   ]
  },
  {
   "cell_type": "markdown",
   "metadata": {},
   "source": [
    "<p><i><b>>> git add primes_sum_1000.py</b></i></p>"
   ]
  },
  {
   "cell_type": "markdown",
   "metadata": {},
   "source": [
    "Внесем локально изменения (зафиксируем их в локальном репозитории)"
   ]
  },
  {
   "cell_type": "markdown",
   "metadata": {},
   "source": [
    "<p><i><b>>> git commit -m \"add primes sum calculator\"</b></i></p>"
   ]
  },
  {
   "cell_type": "markdown",
   "metadata": {},
   "source": [
    "Отправим изменения на сервер в ветку master"
   ]
  },
  {
   "cell_type": "markdown",
   "metadata": {},
   "source": [
    "<p><i><b>>> git push -u origin master</b></i></p>"
   ]
  },
  {
   "cell_type": "markdown",
   "metadata": {},
   "source": [
    "То же самое можно делать используя графический интерфейс, например <a href=\"http://www.syntevo.com/smartgit/\">SmartGit</a>."
   ]
  },
  {
   "cell_type": "markdown",
   "metadata": {},
   "source": [
    "<img src=\"../img/smart_git.png\" height=\"1003\" width=\"529\">"
   ]
  },
  {
   "cell_type": "markdown",
   "metadata": {},
   "source": [
    "При использовании Git и GitHub приходится иметь дело с разделением ветвей кода (branching), слиянием изменений (merging), восстановлением потерянного кода и другими вопросами, многие из которых рассмотрены в <a href=\"https://www.udacity.com/course/how-to-use-git-and-github--ud775\">курсе</a> на Udacity. <a href=\"http://habrahabr.ru/post/125799/\">Введение</a> в GitHub на русском на Хабрахабре."
   ]
  },
  {
   "cell_type": "markdown",
   "metadata": {},
   "source": [
    "### Часть 3. Среда разработки PyCharm"
   ]
  },
  {
   "cell_type": "markdown",
   "metadata": {},
   "source": [
    "<a href URL=\"https://www.jetbrains.com/pycharm/\">PyCharm</a> компании JetBrains - одна из самых популярных сред разработки (IDE) на языке Python. Из плюсов, перечисленных в одном из <a href URL=\"http://habrahabr.ru/post/122018/\">обзоров</a> и важных для нас в этом курсе:\n",
    " - интуитивно понятная интеграция с Git\n",
    " - удобное автоматическое дополнение текста\n",
    " - множество \"горячих клавиш\" для перехода к определения сущности, списка упоминаний конструкции, подсказок по сигнатуре функций и прочих мелочей\n",
    " - встроенная проверка кода на соответствие стандарту PEP\n",
    " \n",
    " <img src=\"../img/pycharm_screen.png\" height=\"1000\" width=\"769\">\n",
    " \n",
    " <a href URL=\"http://pythonworld.ru/osnovy/pycharm-python-tutorial.html\">Введение в PyCharm</a>"
   ]
  },
  {
   "cell_type": "markdown",
   "metadata": {},
   "source": [
    "### Часть 4. Регистрация на сайте дистанционного курса по информатике"
   ]
  },
  {
   "cell_type": "markdown",
   "metadata": {},
   "source": [
    "Сдача и прием задач курса будет проходить на базе платформы МЦНМО."
   ]
  },
  {
   "cell_type": "markdown",
   "metadata": {},
   "source": [
    "#### Регистрация учетной записи на http://informatics.mccme.ru/.\n",
    "\n",
    "1)\tНеобходимо зайти на сайт http://informatics.mccme.ru/ и в боковом  меню нажать ссылку *Регистрация*\n",
    "\n",
    "2)\tНа открывшейся странице необходимо ввести:\n",
    "\n",
    "a.\t*Логин* и *Пароль* для авторизации в системе (придумайте и запомните),\n",
    "\n",
    "b.\tВаши *Фамилию*, *Имя*, *Отчество*, *Город* (Москва), *Страну* (Россия).\n",
    "\n",
    "c.\tв поле *email* введите Вашу почту в домене @edu.hse.ru\n",
    "\n",
    "d.\tв поле *Школа* укажите *Майнор ВШЭ – подгр.* и номер Вашей подгруппы (например Майнор ВШЭ – подгр. 1) \n",
    "\n",
    "e.\tКласс 11 и год выпуска 2015\n",
    "\n",
    "f.\tПоставьте галочку что Вы не робот и нажмите кнопку *Сохранить*\n",
    "\n",
    "3)\tДалее в открывшемся окне введите Ваш логин и пароль и нажмите кнопку *Вход*.\n",
    "\n",
    "4)\tПосле удачной авторизации Вы будете перенаправлены на страницу курсов, можете найти в списке Курсов “Майнор ВШЭ” или пройти сразу на страницу http://informatics.mccme.ru/course/view.php?id=1128. По мере наступления практических занятий там будут появляться задачи.\n"
   ]
  },
  {
   "cell_type": "markdown",
   "metadata": {},
   "source": [
    "<a href=\"http://informatics.mccme.ru/mod/statements/view.php?id=1129\">Пример</a> одной из задач. \n",
    "<img src=\"../img/mccme_task.png\" height=\"1106\" width=\"446\">\n",
    "Не только формулируется условие задачи, но и даются примеры входных и выходных данных, ограничения по времени и памяти, а также статистика времени выполнения кода на разных языках. "
   ]
  },
  {
   "cell_type": "markdown",
   "metadata": {},
   "source": [
    "### Домашние задания\n",
    "На каждом практическом занятии (кроме первого и контрольной работы) студенты получают задачи, которые необходимо сдать ДО начала следующего практического занятия (то есть в течение недели). Каждая задача имеет определенную “стоимость” – максимальное количество баллов,  которое возможно получить за ее решение. \n",
    "Решенную задачу (код) необходимо загрузить в систему автоматического приема задач  на http://informatics.mccme.ru/.\n"
   ]
  },
  {
   "cell_type": "markdown",
   "metadata": {},
   "source": [
    "#### Как происходит прием задачи\n",
    "\n",
    "1) Написанный студентом код на языке программирования Python загружается им самостоятельно в систему автоматического приема задач на http://informatics.mccme.ru/.\n",
    "\n",
    "2) Система проверяет задачу, используя набор тестов и выдает результат проверки.\n",
    "\n",
    "3) Если автоматическая проверка пройдена, преподаватель осуществляет code review и выставляет конечную оценку за задачу, либо отправляет задачу на доработку (не более одного раза), снабдив замечаниями. \n",
    "\n",
    "4) Временем сдачи задачи считается время прохождения автоматической проверки (статус “ОК”).  При получении задачи на доработку  чтобы не потерять баллы студент должен повторно пройти автоматическую проверку в недельный срок с момента получения замечаний.\n",
    "\n",
    "5) За задачи, сданные позже срока, возможно получить не более половины баллов.\n"
   ]
  }
 ],
 "metadata": {
  "kernelspec": {
   "display_name": "Python 2",
   "language": "python",
   "name": "python2"
  },
  "language_info": {
   "codemirror_mode": {
    "name": "ipython",
    "version": 2
   },
   "file_extension": ".py",
   "mimetype": "text/x-python",
   "name": "python",
   "nbconvert_exporter": "python",
   "pygments_lexer": "ipython2",
   "version": "2.7.10"
  },
  "name": "seminar1_python_intro_tools.ipynb"
 },
 "nbformat": 4,
 "nbformat_minor": 0
}
