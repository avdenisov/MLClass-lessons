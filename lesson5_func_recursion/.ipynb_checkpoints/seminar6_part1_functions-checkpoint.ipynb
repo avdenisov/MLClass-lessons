{
 "cells": [
  {
   "cell_type": "markdown",
   "metadata": {},
   "source": [
    "# MLClass. \"Прикладной анализ данных\". \n",
    "\n",
    "# Курс \"Инструментарий Data Science\". \n",
    "\n",
    "# Преподаватель ФКН НИУ ВШЭ Кашницкий Юрий"
   ]
  },
  {
   "cell_type": "markdown",
   "metadata": {},
   "source": [
    "<img src=\"mlclass_logo.jpg\" height=\"240\" width=\"240\">"
   ]
  },
  {
   "cell_type": "markdown",
   "metadata": {},
   "source": [
    "# Урок 5. Функции. Рекурсия"
   ]
  },
  {
   "cell_type": "markdown",
   "metadata": {},
   "source": [
    "# Часть 1. Функции"
   ]
  },
  {
   "cell_type": "markdown",
   "metadata": {},
   "source": [
    "## 1. Объявление функции\n",
    "\n",
    "def <название_функции> ( <параметр1>,<параметр2>,...,<параметрN>):\n",
    "\n",
    "    <Оператор1>\n",
    "    <Оператор2>\n",
    "    ....\n",
    "    <ОператорN>\n",
    "    return [Выражение]"
   ]
  },
  {
   "cell_type": "code",
   "execution_count": null,
   "metadata": {
    "collapsed": false
   },
   "outputs": [],
   "source": [
    "# Простейшая функция. Ничего не принимает в качестве аргументов и ничего не делает\n",
    "def do_nothing():\n",
    "    pass\n",
    "\n",
    "# вызов функции\n",
    "do_nothing()\n",
    "\n",
    "# Передача параметра\n",
    "def say_hi_to(name): \n",
    "    print(\"Hi dear\", name)\n",
    "    return 0\n",
    "\n",
    "name = \"Andrew\"\n",
    "var1 = \"String\"\n",
    "say_hi_to(name)\n",
    "var1 = say_hi_to(\"me\")\n",
    "print(var1)\n",
    "\n",
    "# Существует большое количество встроенных функций (bult in) \n",
    "# Больше функций на https://docs.python.org/3/library/functions.html )\n",
    "# Например функция определения длины списка\n",
    "ls = [1,2,3]\n",
    "len(ls)"
   ]
  },
  {
   "cell_type": "markdown",
   "metadata": {},
   "source": [
    "# 2. Локальные переменные"
   ]
  },
  {
   "cell_type": "markdown",
   "metadata": {},
   "source": [
    "Функции имеют права на чтение объявленных до функции переменных.\n",
    "Но они не \"видят\" переменные, отбъявление после вызова функции. "
   ]
  },
  {
   "cell_type": "code",
   "execution_count": 1,
   "metadata": {
    "collapsed": false
   },
   "outputs": [
    {
     "name": "stdout",
     "output_type": "stream",
     "text": [
      "I'm s outside f\n"
     ]
    },
    {
     "ename": "NameError",
     "evalue": "name 'k' is not defined",
     "output_type": "error",
     "traceback": [
      "\u001b[0;31m---------------------------------------------------------------------------\u001b[0m",
      "\u001b[0;31mNameError\u001b[0m                                 Traceback (most recent call last)",
      "\u001b[0;32m<ipython-input-1-1ad24b0ee537>\u001b[0m in \u001b[0;36m<module>\u001b[0;34m()\u001b[0m\n\u001b[1;32m      6\u001b[0m \u001b[0;34m\u001b[0m\u001b[0m\n\u001b[1;32m      7\u001b[0m \u001b[0ms\u001b[0m \u001b[0;34m=\u001b[0m \u001b[0;34m\"I'm s outside f\"\u001b[0m\u001b[0;34m\u001b[0m\u001b[0m\n\u001b[0;32m----> 8\u001b[0;31m \u001b[0mf\u001b[0m\u001b[0;34m(\u001b[0m\u001b[0;34m)\u001b[0m\u001b[0;34m\u001b[0m\u001b[0m\n\u001b[0m\u001b[1;32m      9\u001b[0m \u001b[0mk\u001b[0m \u001b[0;34m=\u001b[0m \u001b[0;34m\"I'm k outside f\"\u001b[0m\u001b[0;34m\u001b[0m\u001b[0m\n",
      "\u001b[0;32m<ipython-input-1-1ad24b0ee537>\u001b[0m in \u001b[0;36mf\u001b[0;34m()\u001b[0m\n\u001b[1;32m      3\u001b[0m     \u001b[0;31m#s = \"Inside\" #Однако не могут их менять\u001b[0m\u001b[0;34m\u001b[0m\u001b[0;34m\u001b[0m\u001b[0m\n\u001b[1;32m      4\u001b[0m     \u001b[0;31m#print(s)  #Error\u001b[0m\u001b[0;34m\u001b[0m\u001b[0;34m\u001b[0m\u001b[0m\n\u001b[0;32m----> 5\u001b[0;31m     \u001b[0mprint\u001b[0m\u001b[0;34m(\u001b[0m\u001b[0mk\u001b[0m\u001b[0;34m)\u001b[0m \u001b[0;31m#Error\u001b[0m\u001b[0;34m\u001b[0m\u001b[0m\n\u001b[0m\u001b[1;32m      6\u001b[0m \u001b[0;34m\u001b[0m\u001b[0m\n\u001b[1;32m      7\u001b[0m \u001b[0ms\u001b[0m \u001b[0;34m=\u001b[0m \u001b[0;34m\"I'm s outside f\"\u001b[0m\u001b[0;34m\u001b[0m\u001b[0m\n",
      "\u001b[0;31mNameError\u001b[0m: name 'k' is not defined"
     ]
    }
   ],
   "source": [
    "def f(): \n",
    "    print(s)\n",
    "    #s = \"Inside\" #Однако не могут их менять\n",
    "    #print(s)  #Error\n",
    "    #print(k) #Error\n",
    "    \n",
    "s = \"I'm s outside f\" \n",
    "f()\n",
    "k = \"I'm k outside f\""
   ]
  },
  {
   "cell_type": "markdown",
   "metadata": {},
   "source": [
    "При объявлении в функции переменной с тем же именем создается новая (внутренняя) переменная, не связанная с внешней"
   ]
  },
  {
   "cell_type": "code",
   "execution_count": null,
   "metadata": {
    "collapsed": false
   },
   "outputs": [],
   "source": [
    "def f(): \n",
    "    print(k) # Так можно. Тут переменная К не объявляется\n",
    "    #print(s) #Тем не менее попытка обращения к переменной которая потом будет создана вызывает ошибку\n",
    "    s = \"Inside\" \n",
    "    print(s)\n",
    "    print(\"===========\")\n",
    "    \n",
    "\n",
    "s = \"I'm s outside f\" \n",
    "k = \"I'm k outside f\"\n",
    "f()\n",
    "print(s)\n"
   ]
  },
  {
   "cell_type": "markdown",
   "metadata": {},
   "source": [
    "Для изменения внешних переменных внутри функции эти переменные надо объявить глобальными."
   ]
  },
  {
   "cell_type": "code",
   "execution_count": null,
   "metadata": {
    "collapsed": false
   },
   "outputs": [],
   "source": [
    "def f():\n",
    "    global s \n",
    "    print(s)\n",
    "    s = \"Inside\"\n",
    "    print(s)\n",
    "    print(\"=======================\")\n",
    "\n",
    "\n",
    "s = \"Outside\"\n",
    "f()\n",
    "print(s)"
   ]
  },
  {
   "cell_type": "markdown",
   "metadata": {},
   "source": [
    "## 3. Передача в функции неизменяемых типов (str, int, tuple)\n",
    "\n",
    "Передача происходит по значению, т.е внешняя переменная не зависит от внутренней (локальной) функции"
   ]
  },
  {
   "cell_type": "code",
   "execution_count": 2,
   "metadata": {
    "collapsed": false
   },
   "outputs": [
    {
     "name": "stdout",
     "output_type": "stream",
     "text": [
      "Outside\n",
      "10\n",
      "Inside\n",
      "4\n",
      "=========\n",
      "Outside\n",
      "10\n"
     ]
    }
   ],
   "source": [
    "def func(arg,arg2):\n",
    "    print(arg)\n",
    "    print(arg2)\n",
    "    arg = \"Inside\"\n",
    "    arg2 = 4\n",
    "    print(arg)\n",
    "    print(arg2)\n",
    "    print(\"=========\")\n",
    "\n",
    "\n",
    "var1 = \"Outside\"\n",
    "var2 = 10\n",
    "func(var1,var2)\n",
    "print(var1) # значение переменной вне функции не изменилось\n",
    "print(var2)\n"
   ]
  },
  {
   "cell_type": "markdown",
   "metadata": {},
   "source": [
    "Пример. Хотим распечатать зарплаты по месяцам в порядке возрастания, но исходные данные не хотим менять"
   ]
  },
  {
   "cell_type": "code",
   "execution_count": null,
   "metadata": {
    "collapsed": true
   },
   "outputs": [],
   "source": [
    "salaries = [40000, 35600, 32000, 55200]\n",
    "print"
   ]
  },
  {
   "cell_type": "markdown",
   "metadata": {},
   "source": [
    "## 4. Передача в функции изменяемых типов (list, dict, set)\n",
    "\n",
    "Передача параметров изменяемых типов происходит по ссылке, т.е изменения в функции влияют на внешние переменные"
   ]
  },
  {
   "cell_type": "code",
   "execution_count": null,
   "metadata": {
    "collapsed": false
   },
   "outputs": [],
   "source": [
    "def changeme(mylist, mydict):\n",
    "    mylist.append([1,2,3,4])\n",
    "    mydict[1]=\"ccc\"\n",
    "    print(\"List inside: \", mylist)\n",
    "    print(\"Dict inside: \", mydict)\n",
    "    print(\"====================\")\n",
    "\n",
    "l1 = [10,20,30]\n",
    "d1 = {1:\"a\",2:\"b\"}\n",
    "print(\"List outside: \", l1)\n",
    "print(\"Dict outside: \", d1)\n",
    "print(\"==================\")\n",
    "changeme(l1,d1);\n",
    "print(\"List outside: \", l1)\n",
    "print(\"Dict outside: \", d1)"
   ]
  },
  {
   "cell_type": "markdown",
   "metadata": {},
   "source": [
    "## 5. Именованные аргументы"
   ]
  },
  {
   "cell_type": "code",
   "execution_count": null,
   "metadata": {
    "collapsed": false
   },
   "outputs": [],
   "source": [
    "def describe_person(first_name, last_name, age):\n",
    "    print(\"First name: %s\" % first_name.title())\n",
    "    print(\"Last name: %s\" % last_name.title())\n",
    "    print(\"Age: %d\\n\" % age)\n",
    "\n",
    "describe_person(age=71, first_name='brian', last_name='kernighan')"
   ]
  },
  {
   "cell_type": "code",
   "execution_count": null,
   "metadata": {
    "collapsed": false
   },
   "outputs": [],
   "source": [
    "def parrot(voltage, state='a stiff', action='voom', type='Norwegian Blue'):\n",
    "    print(\"-- This parrot wouldn't\", action, end=' ')\n",
    "    print(\"if you put\", voltage, \"volts through it.\")\n",
    "    print(\"-- Lovely plumage, the\", type)\n",
    "    print(\"-- It's\", state, \"!\")\n",
    "    \n",
    "parrot(1000)                                          # 1 positional argument\n",
    "parrot(voltage=1000)                                  # 1 keyword argument\n",
    "parrot(voltage=1000000, action='VOOOOOM')             # 2 keyword arguments\n",
    "parrot(action='VOOOOOM', voltage=1000000)             # 2 keyword arguments\n",
    "parrot('a million', 'bereft of life', 'jump')         # 3 positional arguments\n",
    "parrot('a thousand', state='pushing up the daisies')  # 1 positional, 1 keyword"
   ]
  },
  {
   "cell_type": "markdown",
   "metadata": {},
   "source": [
    "## 6. Переменное число аргументов"
   ]
  },
  {
   "cell_type": "code",
   "execution_count": null,
   "metadata": {
    "collapsed": false
   },
   "outputs": [],
   "source": [
    "def cheeseshop(kind, *arguments, **keywords):\n",
    "    print(\"-- Do you have any\", kind, \"?\")\n",
    "    print(\"-- I'm sorry, we're all out of\", kind)\n",
    "    for arg in arguments:\n",
    "        print(arg)\n",
    "    print(\"-\" * 40)\n",
    "    keys = sorted(keywords.keys())\n",
    "    for kw in keys:\n",
    "        print(kw, \":\", keywords[kw])\n",
    "\n",
    "cheeseshop(\"Limburger\", \"It's very runny, sir.\",\n",
    "           \"It's really very, VERY runny, sir.\",\n",
    "           shopkeeper=\"Michael Palin\",\n",
    "           client=\"John Cleese\",\n",
    "           sketch=\"Cheese Shop Sketch\")"
   ]
  },
  {
   "cell_type": "markdown",
   "metadata": {},
   "source": [
    "\n",
    "## 7. Возврат данных из функции с помощью Return"
   ]
  },
  {
   "cell_type": "code",
   "execution_count": null,
   "metadata": {
    "collapsed": false
   },
   "outputs": [],
   "source": [
    "def f1():\n",
    "    return 10\n",
    "    return 12\n",
    "x = f1()\n",
    "print(x)\n",
    "print(f1())"
   ]
  },
  {
   "cell_type": "markdown",
   "metadata": {},
   "source": [
    "## 8. Ссылка на функции\n"
   ]
  },
  {
   "cell_type": "code",
   "execution_count": null,
   "metadata": {
    "collapsed": false
   },
   "outputs": [],
   "source": [
    "def f1():\n",
    "    return 10\n",
    "\n",
    "def f2(func):\n",
    "    print(func())\n",
    "\n",
    "x = f1\n",
    "print(x)\n",
    "\n",
    "f2(x)"
   ]
  },
  {
   "cell_type": "markdown",
   "metadata": {},
   "source": [
    "## 9. Рекурсивные функции\n",
    "\n",
    "Рекурсивная функция - это функция которая вызывает в теле сама себя"
   ]
  },
  {
   "cell_type": "code",
   "execution_count": null,
   "metadata": {
    "collapsed": false
   },
   "outputs": [],
   "source": [
    "def f1(j):\n",
    "    j=j+1\n",
    "    if j==10:\n",
    "        print(j)\n",
    "        return\n",
    "    else:\n",
    "        f1(j)\n",
    "\n",
    "i=0\n",
    "f1(i)"
   ]
  },
  {
   "cell_type": "code",
   "execution_count": null,
   "metadata": {
    "collapsed": false
   },
   "outputs": [],
   "source": [
    "def factorial(n):\n",
    "    if n == 1:\n",
    "        return 1\n",
    "    else:\n",
    "        return n * factorial(n-1)\n",
    "\n",
    "# 4! = 4 * 3 * 2 * 1 = 24\n",
    "for i,k in enumerate(range(1,10)):\n",
    "    print(i,factorial(k))"
   ]
  },
  {
   "cell_type": "code",
   "execution_count": null,
   "metadata": {
    "collapsed": false
   },
   "outputs": [],
   "source": [
    "def fib(n):\n",
    "    if n in (0, 1):\n",
    "        return n\n",
    "    else:\n",
    "        return fib(n-1) + fib(n-2)"
   ]
  },
  {
   "cell_type": "code",
   "execution_count": null,
   "metadata": {
    "collapsed": false
   },
   "outputs": [],
   "source": [
    "for i in range(11):\n",
    "    print(fib(i))"
   ]
  },
  {
   "cell_type": "markdown",
   "metadata": {},
   "source": [
    "## 10. Лямбда функции"
   ]
  },
  {
   "cell_type": "code",
   "execution_count": null,
   "metadata": {
    "collapsed": false
   },
   "outputs": [],
   "source": [
    "def make_incrementor(n):\n",
    "    return lambda x: x + n\n",
    "\n",
    "f = make_incrementor(42)\n",
    "print(f)\n",
    "\n",
    "print(f(2))\n"
   ]
  },
  {
   "cell_type": "markdown",
   "metadata": {},
   "source": [
    "## 11. Генератор"
   ]
  },
  {
   "cell_type": "code",
   "execution_count": null,
   "metadata": {
    "collapsed": false
   },
   "outputs": [],
   "source": [
    "def firstn(n):\n",
    "    num, nums = 0, []\n",
    "    while num < n:\n",
    "        nums.append(num)\n",
    "        num += 1\n",
    "    return nums\n",
    "\n",
    "sum_of_first_n = sum(firstn(10))\n",
    "print(sum_of_first_n)"
   ]
  },
  {
   "cell_type": "markdown",
   "metadata": {},
   "source": [
    "С сокращенной нотацией списков мы уже сталкивались. Такую конструкцию также называют генератором списка."
   ]
  },
  {
   "cell_type": "code",
   "execution_count": null,
   "metadata": {
    "collapsed": false
   },
   "outputs": [],
   "source": [
    "doubles = [2 * n for n in range(50)]\n",
    "print(doubles)"
   ]
  },
  {
   "cell_type": "markdown",
   "metadata": {},
   "source": [
    "Но бывают и выражения-генераторы (синтаксис такой же, как для генератора списка, только скобки круглые). Это более эффективно, чем использование генератора списков."
   ]
  },
  {
   "cell_type": "code",
   "execution_count": null,
   "metadata": {
    "collapsed": false
   },
   "outputs": [],
   "source": [
    "numbers = (1,2,3,4,5)\n",
    "squares_under_10 = (number*number for number in numbers if number*number < 10)\n",
    "print(squares_under_10)\n",
    "for i in squares_under_10:\n",
    "    print(i, end=', ')"
   ]
  },
  {
   "cell_type": "code",
   "execution_count": null,
   "metadata": {
    "collapsed": true
   },
   "outputs": [],
   "source": []
  }
 ],
 "metadata": {
  "kernelspec": {
   "display_name": "Python 3",
   "language": "python",
   "name": "python3"
  },
  "language_info": {
   "codemirror_mode": {
    "name": "ipython",
    "version": 3
   },
   "file_extension": ".py",
   "mimetype": "text/x-python",
   "name": "python",
   "nbconvert_exporter": "python",
   "pygments_lexer": "ipython3",
   "version": "3.4.3"
  },
  "name": "4_Functions.ipynb"
 },
 "nbformat": 4,
 "nbformat_minor": 0
}
