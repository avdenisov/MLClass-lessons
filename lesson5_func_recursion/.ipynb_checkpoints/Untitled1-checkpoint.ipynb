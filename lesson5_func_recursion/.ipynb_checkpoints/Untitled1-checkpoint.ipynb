{
 "cells": [
  {
   "cell_type": "code",
   "execution_count": 8,
   "metadata": {
    "collapsed": false
   },
   "outputs": [
    {
     "name": "stdout",
     "output_type": "stream",
     "text": [
      "1 \n"
     ]
    }
   ],
   "source": [
    "def reverse_recur(s, left, right, left_num, right_num, output):\n",
    "    if left == right == 0:\n",
    "        output += s[left] + ' '\n",
    "        return output\n",
    "    if left == right - 1:\n",
    "        output += left_num + right_num + ' '\n",
    "        return output\n",
    "    elif left == right - 2:\n",
    "        if s[left + 1] == ' ':\n",
    "            output += right_num + s[left + 1] + left_num + ' '\n",
    "        else:\n",
    "            output += left_num + s[left + 1] + right_num + ' '\n",
    "        return output\n",
    "    else:\n",
    "        if s[right - 1] != ' ':\n",
    "            right_num = s[right - 1] + right_num\n",
    "        else:\n",
    "            output += right_num + ' '\n",
    "            right_num = ''\n",
    " \n",
    "        if s[left + 1] != ' ':\n",
    "            left_num = left_num + s[left + 1]\n",
    "        else:\n",
    "            saved_left_num = left_num\n",
    "            left_num = ''\n",
    " \n",
    "        reverse_recur(s, left + 1, right - 1, left_num, right_num, output)\n",
    " \n",
    "        if s[left + 1] == ' ':\n",
    "            output += saved_left_num + ' '\n",
    "        return output\n",
    "\n",
    "s = \"4321 321 21 1\"\n",
    "print(reverse_recur(s, 0, len(s)-1, s[0], s[-1], ''))"
   ]
  },
  {
   "cell_type": "code",
   "execution_count": null,
   "metadata": {
    "collapsed": true
   },
   "outputs": [],
   "source": [
    "import unittest\n",
    "\n",
    "class Test(unittest.TestCase):\n",
    "    def test_reverse_recur(self):\n",
    "        self.assertEqual(test_reverse_recur('1'), '1')\n",
    "        self.assertEqual(test_reverse_recur('123'), '123')\n",
    "        self.assertEqual(test_reverse_recur('1 3'), '3 1')\n",
    "        self.assertEqual(test_reverse_recur('1 3 5 7 9'), '9 7 5 3 1')\n",
    "        \n",
    "unittest.main()"
   ]
  }
 ],
 "metadata": {
  "kernelspec": {
   "display_name": "Python 3",
   "language": "python",
   "name": "python3"
  },
  "language_info": {
   "codemirror_mode": {
    "name": "ipython",
    "version": 3
   },
   "file_extension": ".py",
   "mimetype": "text/x-python",
   "name": "python",
   "nbconvert_exporter": "python",
   "pygments_lexer": "ipython3",
   "version": "3.4.3"
  }
 },
 "nbformat": 4,
 "nbformat_minor": 0
}
