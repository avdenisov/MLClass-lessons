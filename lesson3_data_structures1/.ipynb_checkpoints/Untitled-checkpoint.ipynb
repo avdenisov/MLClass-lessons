{
 "cells": [
  {
   "cell_type": "markdown",
   "metadata": {},
   "source": [
    "## Задача J"
   ]
  },
  {
   "cell_type": "code",
   "execution_count": 1,
   "metadata": {
    "collapsed": false
   },
   "outputs": [
    {
     "name": "stdout",
     "output_type": "stream",
     "text": [
      "35\n"
     ]
    }
   ],
   "source": [
    "a = range(100)\n",
    "b = range(65, 165)\n",
    "\n",
    "print(len(set(a).intersection(set(b))))"
   ]
  },
  {
   "cell_type": "markdown",
   "metadata": {},
   "source": [
    "## Задача L\n"
   ]
  },
  {
   "cell_type": "code",
   "execution_count": 4,
   "metadata": {
    "collapsed": false
   },
   "outputs": [
    {
     "name": "stdout",
     "output_type": "stream",
     "text": [
      "{'Koltunov': 1, 'Karelin': 1, 'Adrianov': 1, 'programmer': 2, 'Belkin': 1, 'artist': 2, '4000': 2, 'Loptev': 1, 'occupation': 1, 'lastname': 1, '42': 2, '32': 2, 'sportsman': 2, '100': 2, 'Bobrov': 1, 'debt': 1, '30000': 2, '25': 2, 'age': 1}\n",
      "19\n"
     ]
    }
   ],
   "source": [
    "input_file = open(\"credit_sample.txt\", 'r')\n",
    "\n",
    "word_count_dict = {} # {'word1': n1, 'word2': n2}\n",
    "\n",
    "for line in input_file:\n",
    "    words = line.strip().split(\",\")\n",
    "    for word in words:\n",
    "        if word in word_count_dict:\n",
    "            word_count_dict[word] += 1\n",
    "        else:\n",
    "            word_count_dict[word] = 1\n",
    "            \n",
    "print(word_count_dict)\n",
    "\n",
    "print(len(word_count_dict))"
   ]
  },
  {
   "cell_type": "code",
   "execution_count": null,
   "metadata": {
    "collapsed": true
   },
   "outputs": [],
   "source": []
  }
 ],
 "metadata": {
  "kernelspec": {
   "display_name": "Python 3",
   "language": "python",
   "name": "python3"
  },
  "language_info": {
   "codemirror_mode": {
    "name": "ipython",
    "version": 3
   },
   "file_extension": ".py",
   "mimetype": "text/x-python",
   "name": "python",
   "nbconvert_exporter": "python",
   "pygments_lexer": "ipython3",
   "version": "3.4.3"
  }
 },
 "nbformat": 4,
 "nbformat_minor": 0
}
